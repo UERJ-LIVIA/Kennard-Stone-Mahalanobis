{
 "cells": [
  {
   "cell_type": "code",
   "execution_count": 98,
   "metadata": {},
   "outputs": [],
   "source": [
    "import pandas as pd\n",
    "import csv\n",
    "import numpy as np\n",
    "import sklearn as sk\n",
    "from sklearn import metrics"
   ]
  },
  {
   "cell_type": "code",
   "execution_count": 129,
   "metadata": {},
   "outputs": [],
   "source": [
    "def MDKS(DIR,HEADER,k,COV,VERBOSE,PRINTRESULTS):\n",
    "    #READ\n",
    "    M = pd.read_csv(DIR, ';',header = HEADER)\n",
    "\n",
    "    # M is our input matrix with observations placed on rows and variables on columns\n",
    "    #M = np.array(M)\n",
    "    if COV:\n",
    "        Cov = pd.DataFrame.cov(M)\n",
    "        Cov.to_csv(DIR.replace(\".csv\", str(_COV)) + '.csv' ,sep = ';', header = True, mode = 'a')\n",
    "    # n = number of observations = number of rows\n",
    "    n=len(M)\n",
    "    if VERBOSE:\n",
    "            print(\"Input Size:\", n, \"Desired Size:\", k)\n",
    "    assert n >= 2 and n >= k and k >= 2, \"Error: number of rows must >= 2, k must >= 2 and k must > number of rows\"        \n",
    "\n",
    "    MDist = sk.metrics.pairwise_distances(M.T, metric = 'mahalanobis', n_jobs = -1)\n",
    "    #We made a matrix of Mahalanobis distances between pairs, its a square matrix by definition\n",
    "    #for this, rows are observations and columns are variables\n",
    "    #Now, selecting two samples furthest apart in Mahalanobis metric:\n",
    "\n",
    "    s0, s1 = np.unravel_index(np.argmax(MDist, axis=None), MDist.shape)\n",
    "    #ARGMAX takes your matrix, flattens it and returns the indice(int) of the max element\n",
    "    #UNRAVEL_INDEX proceeds to find where that element would be in your matrix and returns (row,column) of that element\n",
    "    # But we are talking about a Mahalanobis distance matrix, so, an Element[i][j] (i!=j) represents the distance from\n",
    "    #Sample i and j (counting from 0)\n",
    "    selected = set([s0, s1])\n",
    "    k -= 2\n",
    "\n",
    "    #Next we select new samples bases on the minimal distances from our selected samples until we reach K samples\n",
    "    #This needs to be a distance > 0 because of the main diagonal, and there is no such thing as negative distance\n",
    "    #Checking minimal distances sweeping rows (square matrix)\n",
    "    minj = s0\n",
    "    while k > 0 and len(selected) < n:\n",
    "        mindist = 0.0\n",
    "        for j in range(n):\n",
    "            if j not in selected:\n",
    "                mindistj = min([MDist[j][i] for i in selected])\n",
    "                if mindistj > mindist:\n",
    "                    minj = j\n",
    "                    mindist = mindistj\n",
    "        selected.add(minj)\n",
    "        k -= 1\n",
    "        \n",
    "    if PRINTRESULTS:\n",
    "        M.iloc[list(selected), :].to_csv(DIR.replace(\".csv\", str(_SELECTED_SAMPLES)) + '.csv',sep = ';', header = True, mode = 'a')\n",
    "        \n",
    "\n",
    "    return M.iloc[list(selected), :]\n",
    "    \n",
    "  \n",
    "\n",
    "\n",
    "    \n",
    "\n",
    "\n",
    "\n",
    "\n",
    "        \n",
    "        \n",
    "    \n",
    "\n"
   ]
  },
  {
   "cell_type": "code",
   "execution_count": 128,
   "metadata": {},
   "outputs": [
    {
     "name": "stdout",
     "output_type": "stream",
     "text": [
      "Input Size: 3 Desired Size: 2\n"
     ]
    },
    {
     "data": {
      "text/html": [
       "<div>\n",
       "<style scoped>\n",
       "    .dataframe tbody tr th:only-of-type {\n",
       "        vertical-align: middle;\n",
       "    }\n",
       "\n",
       "    .dataframe tbody tr th {\n",
       "        vertical-align: top;\n",
       "    }\n",
       "\n",
       "    .dataframe thead th {\n",
       "        text-align: right;\n",
       "    }\n",
       "</style>\n",
       "<table border=\"1\" class=\"dataframe\">\n",
       "  <thead>\n",
       "    <tr style=\"text-align: right;\">\n",
       "      <th></th>\n",
       "      <th>0</th>\n",
       "      <th>1</th>\n",
       "    </tr>\n",
       "  </thead>\n",
       "  <tbody>\n",
       "    <tr>\n",
       "      <th>0</th>\n",
       "      <td>-2.1</td>\n",
       "      <td>3.0</td>\n",
       "    </tr>\n",
       "    <tr>\n",
       "      <th>1</th>\n",
       "      <td>-1.0</td>\n",
       "      <td>1.1</td>\n",
       "    </tr>\n",
       "  </tbody>\n",
       "</table>\n",
       "</div>"
      ],
      "text/plain": [
       "     0    1\n",
       "0 -2.1  3.0\n",
       "1 -1.0  1.1"
      ]
     },
     "execution_count": 128,
     "metadata": {},
     "output_type": "execute_result"
    }
   ],
   "source": [
    "#MDKS(r'C:\\Users\\jvabd\\Desktop\\Projeto final\\Banco de dados\\Data Splitting Mahalanobis\\TESTE.csv', HEADER = None ,k=2,COV=True,VERBOSE=True,PRINTRESULTS=True)"
   ]
  },
  {
   "cell_type": "code",
   "execution_count": 97,
   "metadata": {},
   "outputs": [
    {
     "data": {
      "text/plain": [
       "array([[-2.1 ,  3.  ],\n",
       "       [-1.  ,  1.1 ],\n",
       "       [ 4.3 ,  0.12]])"
      ]
     },
     "execution_count": 97,
     "metadata": {},
     "output_type": "execute_result"
    }
   ],
   "source": [
    "#M"
   ]
  },
  {
   "cell_type": "code",
   "execution_count": null,
   "metadata": {},
   "outputs": [],
   "source": [
    "#M = np.array([[-2.1,3],[-1,1.1],[4.3,0.12]])"
   ]
  },
  {
   "cell_type": "code",
   "execution_count": 113,
   "metadata": {},
   "outputs": [
    {
     "data": {
      "text/plain": [
       "array([[11.71      , -4.286     ],\n",
       "       [-4.286     ,  2.14413333]])"
      ]
     },
     "execution_count": 113,
     "metadata": {},
     "output_type": "execute_result"
    }
   ],
   "source": [
    "#Cov"
   ]
  }
 ],
 "metadata": {
  "kernelspec": {
   "display_name": "Python 3",
   "language": "python",
   "name": "python3"
  },
  "language_info": {
   "codemirror_mode": {
    "name": "ipython",
    "version": 3
   },
   "file_extension": ".py",
   "mimetype": "text/x-python",
   "name": "python",
   "nbconvert_exporter": "python",
   "pygments_lexer": "ipython3",
   "version": "3.8.8"
  }
 },
 "nbformat": 4,
 "nbformat_minor": 4
}
