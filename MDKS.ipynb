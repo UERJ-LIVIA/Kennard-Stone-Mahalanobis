{
 "cells": [
  {
   "cell_type": "code",
   "execution_count": null,
   "metadata": {},
   "outputs": [],
   "source": [
    "from __future__ import division, print_function\n",
    "import numpy as np\n",
    "from sklearn.model_selection import train_test_split\n",
    "from scipy.spatial.distance import cdist\n",
    "import scipy as sp\n",
    "import pandas as pd\n",
    "import csv\n",
    "from scipy.spatial.distance import pdist\n",
    "from sklearn.decomposition import PCA\n",
    "from mahalanobis import Mahalanobis\n",
    "from functools import partial\n",
    "from tqdm import trange\n",
    "from numba import njit"
   ]
  },
  {
   "cell_type": "markdown",
   "metadata": {},
   "source": [
    "Loading the dataset and doing PCA dimensional reduction"
   ]
  },
  {
   "cell_type": "code",
   "execution_count": null,
   "metadata": {},
   "outputs": [],
   "source": [
    "#######\n",
    "dados_crus = pd.read_csv('OutPut5Corr.csv',sep = ';', header=0)\n",
    "X_reduced = pd.DataFrame(dados_crus.iloc[:, [2,3,4,20,21]])\n",
    "pca = PCA(n_components=4)\n",
    "X_reduced = pca.fit_transform(X_reduced)\n",
    "COV = pd.DataFrame(X_reduced).cov()\n",
    "ICOV = np.linalg.inv(COV)\n",
    "\n"
   ]
  },
  {
   "cell_type": "code",
   "execution_count": null,
   "metadata": {},
   "outputs": [],
   "source": [
    "X_reduced.shape"
   ]
  },
  {
   "cell_type": "markdown",
   "metadata": {},
   "source": [
    "To find the maximum distance we can use the following intuitive loops but it will last years. You can check it and see the remaining time in the indicator"
   ]
  },
  {
   "cell_type": "code",
   "execution_count": null,
   "metadata": {},
   "outputs": [],
   "source": [
    "\"\"\"\n",
    "\n",
    "Dmin = 0.\n",
    "InitSamples = []\n",
    "for i in trange(len(X_reduced)):\n",
    "    for j in range(i, len(X_reduced)):\n",
    "        Dmax = sp.spatial.distance.mahalanobis(X_reduced[i],X_reduced[j],ICOV)\n",
    "        if Dmax > Dmin:\n",
    "            InitSamples = [i,j]\n",
    "            Dmin = Dmax\n",
    "\n",
    "\"\"\"                "
   ]
  },
  {
   "cell_type": "markdown",
   "metadata": {},
   "source": [
    "The idea is using Numba. We can define the following function and use `njit` as decorator. But before defining this function for both loops, to see the results, we define a function for just one of the loops."
   ]
  },
  {
   "cell_type": "code",
   "execution_count": null,
   "metadata": {},
   "outputs": [],
   "source": [
    "@njit\n",
    "def find_min_check(X, i, VI):\n",
    "    Dmax = 0.\n",
    "    #for i in range(len(X)):\n",
    "    for j in range(i, len(X)):\n",
    "        D = np.sqrt(np.dot(np.dot((X[i]-X[j]),VI),(X[i]-X[j]).T))\n",
    "        if D > Dmax:\n",
    "            InitSamples = [i,j]\n",
    "            Dmax = D\n",
    "    return Dmax, InitSamples"
   ]
  },
  {
   "cell_type": "code",
   "execution_count": null,
   "metadata": {},
   "outputs": [],
   "source": [
    "Dmax = 0\n",
    "Init = 0\n",
    "for i in trange(len(X_reduced)):\n",
    "    D, InitSamples = find_min_check(X_reduced, i, ICOV)\n",
    "    if D > Dmax:\n",
    "        Init = InitSamples\n",
    "        Dmax = D"
   ]
  },
  {
   "cell_type": "markdown",
   "metadata": {},
   "source": [
    "As it can be seen the result is very promising. Now we can put both of the loops in the function. But, unfornunatly, we can not measure the remaining time due to the restrictions of Numba. Hopefully the computation will terminate in a reasonable time!"
   ]
  },
  {
   "cell_type": "code",
   "execution_count": null,
   "metadata": {},
   "outputs": [],
   "source": [
    "@njit\n",
    "def find_min(X, VI):\n",
    "    Dmax = 0.\n",
    "    for i in range(len(X)):\n",
    "        for j in range(i, len(X)):\n",
    "            D = np.sqrt(np.dot(np.dot((X[i]-X[j]),VI),(X[i]-X[j]).T))\n",
    "            if Dmax > D:\n",
    "                InitSamples = [i,j]\n",
    "                Dmax = D\n",
    "    return Dmax, InitSamples\n",
    "                "
   ]
  },
  {
   "cell_type": "code",
   "execution_count": null,
   "metadata": {},
   "outputs": [],
   "source": [
    "Dmax, InitSamples = find_min(X_reduced, ICOV)"
   ]
  },
  {
   "cell_type": "code",
   "execution_count": null,
   "metadata": {},
   "outputs": [],
   "source": [
    "\n",
    "                "
   ]
  },
  {
   "cell_type": "code",
   "execution_count": null,
   "metadata": {},
   "outputs": [],
   "source": [
    "\n"
   ]
  },
  {
   "cell_type": "code",
   "execution_count": null,
   "metadata": {},
   "outputs": [],
   "source": [
    "\n",
    "                \n",
    "test_size = 0.01               \n",
    "train_size = round(len(X_reduced) * (1-test_size))\n",
    "\n",
    "Train_Samples = []\n",
    "Train_Samples.append(InitSamples[0])\n",
    "Train_Samples.append(InitSamples[1])\n",
    "\n",
    "for i in range(len(X_reduced)):\n",
    "    Test_Samples.append(i)\n",
    "    \n",
    "Test_Samples.remove(InitSamples[0])\n",
    "Test_Samples.remove(InitSamples[1])\n",
    "\n",
    "for u in range(train_size - 2):\n",
    "    for h in Train_Samples:\n",
    "        for j in range(len(X_reduced)):\n",
    "            if h > j and h != j: #Só posso escrever abaixo assim por ser simétrica//Python lê a memória em colunas ou em linhas?\n",
    "                DistH = sp.spatial.distance.mahalanobis(X_reduced[h,:],X_reduced[j,:],ICOV)\n",
    "                if DistH < DminH:\n",
    "                    DminH = DistH\n",
    "                    Sample_J_And_MinDist_For_Sample_H = [j,DistH]\n",
    "        for g in range(len(Train_Samples)):\n",
    "            Sample_J_And_MinDist_For_Sample_H_Matrix.append(Sample_J_And_MinDist_For_Sample_H)\n",
    "            \n",
    "                        \n",
    "        To_Remove = np.array(Sample_J_And_MinDist_For_Sample_H_Matrix)        \n",
    "        ArgMaxMinD = np.argmax(To_Remove[:,1])\n",
    "        \n",
    "        Train_Samples.append(To_Remove[ArgMaxMinD,0])\n",
    "        Test_Samples.remove(To_Remove[ArgMaxMinD,0])\n",
    "        \n",
    "        Sample_J_And_MinDist_For_Sample_H=[]\n",
    "\n",
    "with open('Test_Samples.csv', 'a', newline='') as outfile:\n",
    "    w = csv.writer(outfile, delimiter=';')\n",
    "    w.writerow(['Test_Samples'])\n",
    "    w.writerows(Test_Samples.T)\n",
    "\n",
    "InitSamples\n",
    "Test_Samples"
   ]
  }
 ],
 "metadata": {
  "kernelspec": {
   "display_name": "Python 3",
   "language": "python",
   "name": "python3"
  },
  "language_info": {
   "codemirror_mode": {
    "name": "ipython",
    "version": 3
   },
   "file_extension": ".py",
   "mimetype": "text/x-python",
   "name": "python",
   "nbconvert_exporter": "python",
   "pygments_lexer": "ipython3",
   "version": "3.8.8"
  }
 },
 "nbformat": 4,
 "nbformat_minor": 5
}